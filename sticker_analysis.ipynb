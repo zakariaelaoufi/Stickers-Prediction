{
 "cells": [
  {
   "cell_type": "code",
   "id": "initial_id",
   "metadata": {
    "collapsed": true,
    "ExecuteTime": {
     "end_time": "2025-01-30T14:24:45.739516Z",
     "start_time": "2025-01-30T14:24:45.694526Z"
    }
   },
   "source": [
    "import pandas as pd\n",
    "import numpy as np\n",
    "import matplotlib.pyplot as plt\n",
    "import seaborn as sns\n",
    "sns.set_style(\"whitegrid\")"
   ],
   "outputs": [],
   "execution_count": 154
  },
  {
   "metadata": {},
   "cell_type": "markdown",
   "source": "# Load data",
   "id": "d3de597e4391a47c"
  },
  {
   "metadata": {
    "ExecuteTime": {
     "end_time": "2025-01-30T14:24:46.953394Z",
     "start_time": "2025-01-30T14:24:46.606420Z"
    }
   },
   "cell_type": "code",
   "source": "stickers = pd.read_csv('data/train.csv')",
   "id": "3c2ed3797274b35a",
   "outputs": [],
   "execution_count": 155
  },
  {
   "metadata": {
    "ExecuteTime": {
     "end_time": "2025-01-30T14:24:47.129556Z",
     "start_time": "2025-01-30T14:24:46.958415Z"
    }
   },
   "cell_type": "code",
   "source": [
    "stickers['date'] = pd.to_datetime(stickers['date'])\n",
    "stickers.drop('id',axis=1, inplace= True)\n",
    "stickers.head()"
   ],
   "id": "346f06becbe537ce",
   "outputs": [
    {
     "data": {
      "text/plain": [
       "        date country              store             product  num_sold\n",
       "0 2010-01-01  Canada  Discount Stickers   Holographic Goose       NaN\n",
       "1 2010-01-01  Canada  Discount Stickers              Kaggle     973.0\n",
       "2 2010-01-01  Canada  Discount Stickers        Kaggle Tiers     906.0\n",
       "3 2010-01-01  Canada  Discount Stickers            Kerneler     423.0\n",
       "4 2010-01-01  Canada  Discount Stickers  Kerneler Dark Mode     491.0"
      ],
      "text/html": [
       "<div>\n",
       "<style scoped>\n",
       "    .dataframe tbody tr th:only-of-type {\n",
       "        vertical-align: middle;\n",
       "    }\n",
       "\n",
       "    .dataframe tbody tr th {\n",
       "        vertical-align: top;\n",
       "    }\n",
       "\n",
       "    .dataframe thead th {\n",
       "        text-align: right;\n",
       "    }\n",
       "</style>\n",
       "<table border=\"1\" class=\"dataframe\">\n",
       "  <thead>\n",
       "    <tr style=\"text-align: right;\">\n",
       "      <th></th>\n",
       "      <th>date</th>\n",
       "      <th>country</th>\n",
       "      <th>store</th>\n",
       "      <th>product</th>\n",
       "      <th>num_sold</th>\n",
       "    </tr>\n",
       "  </thead>\n",
       "  <tbody>\n",
       "    <tr>\n",
       "      <th>0</th>\n",
       "      <td>2010-01-01</td>\n",
       "      <td>Canada</td>\n",
       "      <td>Discount Stickers</td>\n",
       "      <td>Holographic Goose</td>\n",
       "      <td>NaN</td>\n",
       "    </tr>\n",
       "    <tr>\n",
       "      <th>1</th>\n",
       "      <td>2010-01-01</td>\n",
       "      <td>Canada</td>\n",
       "      <td>Discount Stickers</td>\n",
       "      <td>Kaggle</td>\n",
       "      <td>973.0</td>\n",
       "    </tr>\n",
       "    <tr>\n",
       "      <th>2</th>\n",
       "      <td>2010-01-01</td>\n",
       "      <td>Canada</td>\n",
       "      <td>Discount Stickers</td>\n",
       "      <td>Kaggle Tiers</td>\n",
       "      <td>906.0</td>\n",
       "    </tr>\n",
       "    <tr>\n",
       "      <th>3</th>\n",
       "      <td>2010-01-01</td>\n",
       "      <td>Canada</td>\n",
       "      <td>Discount Stickers</td>\n",
       "      <td>Kerneler</td>\n",
       "      <td>423.0</td>\n",
       "    </tr>\n",
       "    <tr>\n",
       "      <th>4</th>\n",
       "      <td>2010-01-01</td>\n",
       "      <td>Canada</td>\n",
       "      <td>Discount Stickers</td>\n",
       "      <td>Kerneler Dark Mode</td>\n",
       "      <td>491.0</td>\n",
       "    </tr>\n",
       "  </tbody>\n",
       "</table>\n",
       "</div>"
      ]
     },
     "execution_count": 156,
     "metadata": {},
     "output_type": "execute_result"
    }
   ],
   "execution_count": 156
  },
  {
   "metadata": {
    "ExecuteTime": {
     "end_time": "2025-01-30T14:24:47.215555Z",
     "start_time": "2025-01-30T14:24:47.132569Z"
    }
   },
   "cell_type": "code",
   "source": "stickers.describe().T",
   "id": "b8567ae4601daa84",
   "outputs": [
    {
     "data": {
      "text/plain": [
       "             count                 mean                  min  \\\n",
       "date        230130  2013-07-02 00:00:00  2010-01-01 00:00:00   \n",
       "num_sold  221259.0           752.527382                  5.0   \n",
       "\n",
       "                          25%                  50%                  75%  \\\n",
       "date      2011-10-02 00:00:00  2013-07-02 00:00:00  2015-04-02 00:00:00   \n",
       "num_sold                219.0                605.0               1114.0   \n",
       "\n",
       "                          max         std  \n",
       "date      2016-12-31 00:00:00         NaN  \n",
       "num_sold               5939.0  690.165445  "
      ],
      "text/html": [
       "<div>\n",
       "<style scoped>\n",
       "    .dataframe tbody tr th:only-of-type {\n",
       "        vertical-align: middle;\n",
       "    }\n",
       "\n",
       "    .dataframe tbody tr th {\n",
       "        vertical-align: top;\n",
       "    }\n",
       "\n",
       "    .dataframe thead th {\n",
       "        text-align: right;\n",
       "    }\n",
       "</style>\n",
       "<table border=\"1\" class=\"dataframe\">\n",
       "  <thead>\n",
       "    <tr style=\"text-align: right;\">\n",
       "      <th></th>\n",
       "      <th>count</th>\n",
       "      <th>mean</th>\n",
       "      <th>min</th>\n",
       "      <th>25%</th>\n",
       "      <th>50%</th>\n",
       "      <th>75%</th>\n",
       "      <th>max</th>\n",
       "      <th>std</th>\n",
       "    </tr>\n",
       "  </thead>\n",
       "  <tbody>\n",
       "    <tr>\n",
       "      <th>date</th>\n",
       "      <td>230130</td>\n",
       "      <td>2013-07-02 00:00:00</td>\n",
       "      <td>2010-01-01 00:00:00</td>\n",
       "      <td>2011-10-02 00:00:00</td>\n",
       "      <td>2013-07-02 00:00:00</td>\n",
       "      <td>2015-04-02 00:00:00</td>\n",
       "      <td>2016-12-31 00:00:00</td>\n",
       "      <td>NaN</td>\n",
       "    </tr>\n",
       "    <tr>\n",
       "      <th>num_sold</th>\n",
       "      <td>221259.0</td>\n",
       "      <td>752.527382</td>\n",
       "      <td>5.0</td>\n",
       "      <td>219.0</td>\n",
       "      <td>605.0</td>\n",
       "      <td>1114.0</td>\n",
       "      <td>5939.0</td>\n",
       "      <td>690.165445</td>\n",
       "    </tr>\n",
       "  </tbody>\n",
       "</table>\n",
       "</div>"
      ]
     },
     "execution_count": 157,
     "metadata": {},
     "output_type": "execute_result"
    }
   ],
   "execution_count": 157
  },
  {
   "metadata": {
    "ExecuteTime": {
     "end_time": "2025-01-30T14:24:47.287498Z",
     "start_time": "2025-01-30T14:24:47.218565Z"
    }
   },
   "cell_type": "code",
   "source": "stickers.info()",
   "id": "b60ae15d26f82a5e",
   "outputs": [
    {
     "name": "stdout",
     "output_type": "stream",
     "text": [
      "<class 'pandas.core.frame.DataFrame'>\n",
      "RangeIndex: 230130 entries, 0 to 230129\n",
      "Data columns (total 5 columns):\n",
      " #   Column    Non-Null Count   Dtype         \n",
      "---  ------    --------------   -----         \n",
      " 0   date      230130 non-null  datetime64[ns]\n",
      " 1   country   230130 non-null  object        \n",
      " 2   store     230130 non-null  object        \n",
      " 3   product   230130 non-null  object        \n",
      " 4   num_sold  221259 non-null  float64       \n",
      "dtypes: datetime64[ns](1), float64(1), object(3)\n",
      "memory usage: 8.8+ MB\n"
     ]
    }
   ],
   "execution_count": 158
  },
  {
   "metadata": {
    "ExecuteTime": {
     "end_time": "2025-01-30T14:24:47.333548Z",
     "start_time": "2025-01-30T14:24:47.294513Z"
    }
   },
   "cell_type": "code",
   "source": "stickers.isna().sum()",
   "id": "2bfe1c3c17bb5425",
   "outputs": [
    {
     "data": {
      "text/plain": [
       "date           0\n",
       "country        0\n",
       "store          0\n",
       "product        0\n",
       "num_sold    8871\n",
       "dtype: int64"
      ]
     },
     "execution_count": 159,
     "metadata": {},
     "output_type": "execute_result"
    }
   ],
   "execution_count": 159
  },
  {
   "metadata": {},
   "cell_type": "markdown",
   "source": "# Assign year, month and Weekday to the Dataframe",
   "id": "3cbcb5f0c6964f2c"
  },
  {
   "metadata": {
    "ExecuteTime": {
     "end_time": "2025-01-30T14:24:47.354568Z",
     "start_time": "2025-01-30T14:24:47.338565Z"
    }
   },
   "cell_type": "code",
   "source": [
    "def get_day_month_year(df):\n",
    "    df['date'] = pd.to_datetime(df['date'])\n",
    "    df['day'] = df['date'].dt.day\n",
    "    df['month'] = df['date'].dt.month\n",
    "    df['year'] = df['date'].dt.year\n",
    "    df['weekday'] = df['date'].dt.weekday\n",
    "    df['is_weekend'] = df['weekday'] >= 5\n",
    "    df['is_weekend'] = df['weekday'].map(lambda x: 1 if x == True else 0)\n",
    "    df.drop('date',axis=1,inplace= True)\n",
    "    return df"
   ],
   "id": "9e919b5b4bff32b4",
   "outputs": [],
   "execution_count": 160
  },
  {
   "metadata": {
    "ExecuteTime": {
     "end_time": "2025-01-30T14:24:47.637447Z",
     "start_time": "2025-01-30T14:24:47.358613Z"
    }
   },
   "cell_type": "code",
   "source": "stickers_with_days = get_day_month_year(stickers)",
   "id": "e7753dd7762c0844",
   "outputs": [],
   "execution_count": 161
  },
  {
   "metadata": {
    "ExecuteTime": {
     "end_time": "2025-01-30T14:24:47.691747Z",
     "start_time": "2025-01-30T14:24:47.641692Z"
    }
   },
   "cell_type": "code",
   "source": "stickers_with_days.info()",
   "id": "12d8ae15ba1b9acd",
   "outputs": [
    {
     "name": "stdout",
     "output_type": "stream",
     "text": [
      "<class 'pandas.core.frame.DataFrame'>\n",
      "RangeIndex: 230130 entries, 0 to 230129\n",
      "Data columns (total 9 columns):\n",
      " #   Column      Non-Null Count   Dtype  \n",
      "---  ------      --------------   -----  \n",
      " 0   country     230130 non-null  object \n",
      " 1   store       230130 non-null  object \n",
      " 2   product     230130 non-null  object \n",
      " 3   num_sold    221259 non-null  float64\n",
      " 4   day         230130 non-null  int32  \n",
      " 5   month       230130 non-null  int32  \n",
      " 6   year        230130 non-null  int32  \n",
      " 7   weekday     230130 non-null  int32  \n",
      " 8   is_weekend  230130 non-null  int64  \n",
      "dtypes: float64(1), int32(4), int64(1), object(3)\n",
      "memory usage: 12.3+ MB\n"
     ]
    }
   ],
   "execution_count": 162
  },
  {
   "metadata": {},
   "cell_type": "markdown",
   "source": "# Treating Missing Value",
   "id": "ea99a3ac17524e46"
  },
  {
   "metadata": {
    "ExecuteTime": {
     "end_time": "2025-01-30T14:24:47.705753Z",
     "start_time": "2025-01-30T14:24:47.697760Z"
    }
   },
   "cell_type": "code",
   "source": [
    "def missing_value_proportions(df):\n",
    "    for col in df.columns:\n",
    "        prop = df[col].isna().sum()/len(stickers)*100\n",
    "        print(f'{col}: {round(prop,2)}%')"
   ],
   "id": "82f3beeb6e3ce880",
   "outputs": [],
   "execution_count": 163
  },
  {
   "metadata": {
    "ExecuteTime": {
     "end_time": "2025-01-30T14:24:47.980189Z",
     "start_time": "2025-01-30T14:24:47.933136Z"
    }
   },
   "cell_type": "code",
   "source": "missing_value_proportions(stickers_with_days)",
   "id": "6b02f972cadc47da",
   "outputs": [
    {
     "name": "stdout",
     "output_type": "stream",
     "text": [
      "country: 0.0%\n",
      "store: 0.0%\n",
      "product: 0.0%\n",
      "num_sold: 3.85%\n",
      "day: 0.0%\n",
      "month: 0.0%\n",
      "year: 0.0%\n",
      "weekday: 0.0%\n",
      "is_weekend: 0.0%\n"
     ]
    }
   ],
   "execution_count": 164
  },
  {
   "metadata": {
    "ExecuteTime": {
     "end_time": "2025-01-30T14:24:48.377936Z",
     "start_time": "2025-01-30T14:24:48.369069Z"
    }
   },
   "cell_type": "code",
   "source": [
    "# The proportion of missing values in the data is less than 5%. \n",
    "# Therefore, we can delete them without significantly affecting the overall dataset."
   ],
   "id": "b84ea2f56a237248",
   "outputs": [],
   "execution_count": 165
  },
  {
   "metadata": {
    "ExecuteTime": {
     "end_time": "2025-01-30T14:24:48.894744Z",
     "start_time": "2025-01-30T14:24:48.881890Z"
    }
   },
   "cell_type": "code",
   "source": "nb_rows_bef = len(stickers_with_days)",
   "id": "548495f27ac65730",
   "outputs": [],
   "execution_count": 166
  },
  {
   "metadata": {
    "ExecuteTime": {
     "end_time": "2025-01-30T14:24:49.236828Z",
     "start_time": "2025-01-30T14:24:49.133756Z"
    }
   },
   "cell_type": "code",
   "source": "stickers_with_days = stickers_with_days.dropna(axis=0).reset_index(drop=True)",
   "id": "4dd58c0baa9c9811",
   "outputs": [],
   "execution_count": 167
  },
  {
   "metadata": {
    "ExecuteTime": {
     "end_time": "2025-01-30T14:24:49.291842Z",
     "start_time": "2025-01-30T14:24:49.282849Z"
    }
   },
   "cell_type": "code",
   "source": "nb_rows_aff = len(stickers_with_days)",
   "id": "8012f5362d390f29",
   "outputs": [],
   "execution_count": 168
  },
  {
   "metadata": {
    "ExecuteTime": {
     "end_time": "2025-01-30T14:24:49.449247Z",
     "start_time": "2025-01-30T14:24:49.439378Z"
    }
   },
   "cell_type": "code",
   "source": [
    "print(f'nb of rows before {nb_rows_bef} and after {nb_rows_aff}')\n",
    "print(f'{nb_rows_bef - nb_rows_aff} rows deleted')"
   ],
   "id": "478444a5fe9941bb",
   "outputs": [
    {
     "name": "stdout",
     "output_type": "stream",
     "text": [
      "nb of rows before 230130 and after 221259\n",
      "8871 rows deleted\n"
     ]
    }
   ],
   "execution_count": 169
  },
  {
   "metadata": {
    "ExecuteTime": {
     "end_time": "2025-01-30T14:24:49.612870Z",
     "start_time": "2025-01-30T14:24:49.568413Z"
    }
   },
   "cell_type": "code",
   "source": "stickers_with_days.isna().sum()",
   "id": "c9252ab936bfc3ad",
   "outputs": [
    {
     "data": {
      "text/plain": [
       "country       0\n",
       "store         0\n",
       "product       0\n",
       "num_sold      0\n",
       "day           0\n",
       "month         0\n",
       "year          0\n",
       "weekday       0\n",
       "is_weekend    0\n",
       "dtype: int64"
      ]
     },
     "execution_count": 170,
     "metadata": {},
     "output_type": "execute_result"
    }
   ],
   "execution_count": 170
  },
  {
   "metadata": {},
   "cell_type": "markdown",
   "source": "# Outliers Detection",
   "id": "ab2d182409104f0e"
  },
  {
   "metadata": {
    "ExecuteTime": {
     "end_time": "2025-01-30T14:24:49.653926Z",
     "start_time": "2025-01-30T14:24:49.644883Z"
    }
   },
   "cell_type": "code",
   "source": [
    "def plot_multiple_boxplots(data):\n",
    "    # Select only numeric columns\n",
    "    numeric_columns = data.select_dtypes(include=['float64']).columns\n",
    "\n",
    "    plt.figure(figsize=(12, 8))\n",
    "    sns.boxplot(data=data[numeric_columns])\n",
    "    plt.title('Outlier Detection')\n",
    "    plt.xticks(rotation=45)\n",
    "    plt.tight_layout()\n",
    "    plt.show()"
   ],
   "id": "1ec39dff9b7e8d0d",
   "outputs": [],
   "execution_count": 171
  },
  {
   "metadata": {
    "ExecuteTime": {
     "end_time": "2025-01-30T14:24:51.260976Z",
     "start_time": "2025-01-30T14:24:49.822964Z"
    }
   },
   "cell_type": "code",
   "source": "plot_multiple_boxplots(stickers_with_days)",
   "id": "4ec302e9e7ec4581",
   "outputs": [
    {
     "data": {
      "text/plain": [
       "<Figure size 1200x800 with 1 Axes>"
      ],
      "image/png": "[encoded data removed]"
     },
     "metadata": {},
     "output_type": "display_data"
    }
   ],
   "execution_count": 172
  },
  {
   "metadata": {
    "ExecuteTime": {
     "end_time": "2025-01-30T14:24:51.279020Z",
     "start_time": "2025-01-30T14:24:51.266503Z"
    }
   },
   "cell_type": "code",
   "source": [
    "def remove_outliers_iqr(data):\n",
    "    # Select only numeric columns\n",
    "    numeric_columns = data.select_dtypes(include=['float64']).columns\n",
    "    \n",
    "    # Create a copy of the DataFrame to avoid modifying the original\n",
    "    df_cleaned = data.copy()\n",
    "    \n",
    "    for col in numeric_columns:\n",
    "        # Calculate Q1 (25th percentile) and Q3 (75th percentile)\n",
    "        Q1 = df_cleaned[col].quantile(0.25)\n",
    "        Q3 = df_cleaned[col].quantile(0.75)\n",
    "        \n",
    "        IQR = Q3 - Q1\n",
    "        \n",
    "        # Define the lower and upper bounds for outliers\n",
    "        lower_bound = Q1 - 1.5 * IQR\n",
    "        upper_bound = Q3 + 1.5 * IQR\n",
    "        \n",
    "        # Remove rows with values outside the bounds\n",
    "        df_cleaned = df_cleaned[(df_cleaned[col] >= lower_bound) & (df_cleaned[col] <= upper_bound)]\n",
    "    \n",
    "    return df_cleaned"
   ],
   "id": "459d4da543c9caa5",
   "outputs": [],
   "execution_count": 173
  },
  {
   "metadata": {
    "ExecuteTime": {
     "end_time": "2025-01-30T14:24:51.364662Z",
     "start_time": "2025-01-30T14:24:51.282034Z"
    }
   },
   "cell_type": "code",
   "source": "clean_stickers = remove_outliers_iqr(stickers_with_days)",
   "id": "d61e731033cbc26d",
   "outputs": [],
   "execution_count": 174
  },
  {
   "metadata": {
    "ExecuteTime": {
     "end_time": "2025-01-30T14:24:51.378871Z",
     "start_time": "2025-01-30T14:24:51.367680Z"
    }
   },
   "cell_type": "code",
   "source": "print(f'{stickers.shape[0]-clean_stickers.shape[0]} rows deleted')",
   "id": "7a73d70daadbc840",
   "outputs": [
    {
     "name": "stdout",
     "output_type": "stream",
     "text": [
      "15501 rows deleted\n"
     ]
    }
   ],
   "execution_count": 175
  },
  {
   "metadata": {
    "ExecuteTime": {
     "end_time": "2025-01-30T14:24:52.497886Z",
     "start_time": "2025-01-30T14:24:51.384891Z"
    }
   },
   "cell_type": "code",
   "source": "plot_multiple_boxplots(clean_stickers)",
   "id": "85b74ade0a300325",
   "outputs": [
    {
     "data": {
      "text/plain": [
       "<Figure size 1200x800 with 1 Axes>"
      ],
      "image/png": "[encoded data removed]"
     },
     "metadata": {},
     "output_type": "display_data"
    }
   ],
   "execution_count": 176
  },
  {
   "metadata": {
    "ExecuteTime": {
     "end_time": "2025-01-30T14:24:52.585067Z",
     "start_time": "2025-01-30T14:24:52.503083Z"
    }
   },
   "cell_type": "code",
   "source": "clean_stickers.describe().T",
   "id": "62f6d70156ecbae5",
   "outputs": [
    {
     "data": {
      "text/plain": [
       "               count         mean         std     min     25%     50%     75%  \\\n",
       "num_sold    214629.0   682.394751  566.294552     5.0   212.0   582.0  1047.0   \n",
       "day         214629.0    15.724716    8.797505     1.0     8.0    16.0    23.0   \n",
       "month       214629.0     6.526951    3.460345     1.0     4.0     7.0    10.0   \n",
       "year        214629.0  2013.025877    2.004991  2010.0  2011.0  2013.0  2015.0   \n",
       "weekday     214629.0     2.999781    1.999036     0.0     1.0     3.0     5.0   \n",
       "is_weekend  214629.0     0.142874    0.349946     0.0     0.0     0.0     0.0   \n",
       "\n",
       "               max  \n",
       "num_sold    2456.0  \n",
       "day           31.0  \n",
       "month         12.0  \n",
       "year        2016.0  \n",
       "weekday        6.0  \n",
       "is_weekend     1.0  "
      ],
      "text/html": [
       "<div>\n",
       "<style scoped>\n",
       "    .dataframe tbody tr th:only-of-type {\n",
       "        vertical-align: middle;\n",
       "    }\n",
       "\n",
       "    .dataframe tbody tr th {\n",
       "        vertical-align: top;\n",
       "    }\n",
       "\n",
       "    .dataframe thead th {\n",
       "        text-align: right;\n",
       "    }\n",
       "</style>\n",
       "<table border=\"1\" class=\"dataframe\">\n",
       "  <thead>\n",
       "    <tr style=\"text-align: right;\">\n",
       "      <th></th>\n",
       "      <th>count</th>\n",
       "      <th>mean</th>\n",
       "      <th>std</th>\n",
       "      <th>min</th>\n",
       "      <th>25%</th>\n",
       "      <th>50%</th>\n",
       "      <th>75%</th>\n",
       "      <th>max</th>\n",
       "    </tr>\n",
       "  </thead>\n",
       "  <tbody>\n",
       "    <tr>\n",
       "      <th>num_sold</th>\n",
       "      <td>214629.0</td>\n",
       "      <td>682.394751</td>\n",
       "      <td>566.294552</td>\n",
       "      <td>5.0</td>\n",
       "      <td>212.0</td>\n",
       "      <td>582.0</td>\n",
       "      <td>1047.0</td>\n",
       "      <td>2456.0</td>\n",
       "    </tr>\n",
       "    <tr>\n",
       "      <th>day</th>\n",
       "      <td>214629.0</td>\n",
       "      <td>15.724716</td>\n",
       "      <td>8.797505</td>\n",
       "      <td>1.0</td>\n",
       "      <td>8.0</td>\n",
       "      <td>16.0</td>\n",
       "      <td>23.0</td>\n",
       "      <td>31.0</td>\n",
       "    </tr>\n",
       "    <tr>\n",
       "      <th>month</th>\n",
       "      <td>214629.0</td>\n",
       "      <td>6.526951</td>\n",
       "      <td>3.460345</td>\n",
       "      <td>1.0</td>\n",
       "      <td>4.0</td>\n",
       "      <td>7.0</td>\n",
       "      <td>10.0</td>\n",
       "      <td>12.0</td>\n",
       "    </tr>\n",
       "    <tr>\n",
       "      <th>year</th>\n",
       "      <td>214629.0</td>\n",
       "      <td>2013.025877</td>\n",
       "      <td>2.004991</td>\n",
       "      <td>2010.0</td>\n",
       "      <td>2011.0</td>\n",
       "      <td>2013.0</td>\n",
       "      <td>2015.0</td>\n",
       "      <td>2016.0</td>\n",
       "    </tr>\n",
       "    <tr>\n",
       "      <th>weekday</th>\n",
       "      <td>214629.0</td>\n",
       "      <td>2.999781</td>\n",
       "      <td>1.999036</td>\n",
       "      <td>0.0</td>\n",
       "      <td>1.0</td>\n",
       "      <td>3.0</td>\n",
       "      <td>5.0</td>\n",
       "      <td>6.0</td>\n",
       "    </tr>\n",
       "    <tr>\n",
       "      <th>is_weekend</th>\n",
       "      <td>214629.0</td>\n",
       "      <td>0.142874</td>\n",
       "      <td>0.349946</td>\n",
       "      <td>0.0</td>\n",
       "      <td>0.0</td>\n",
       "      <td>0.0</td>\n",
       "      <td>0.0</td>\n",
       "      <td>1.0</td>\n",
       "    </tr>\n",
       "  </tbody>\n",
       "</table>\n",
       "</div>"
      ]
     },
     "execution_count": 177,
     "metadata": {},
     "output_type": "execute_result"
    }
   ],
   "execution_count": 177
  },
  {
   "metadata": {},
   "cell_type": "markdown",
   "source": "# Add GDP Per Capita for Each Country by Year",
   "id": "9db0035fa5dd100a"
  },
  {
   "metadata": {
    "ExecuteTime": {
     "end_time": "2025-01-30T14:24:52.599937Z",
     "start_time": "2025-01-30T14:24:52.589089Z"
    }
   },
   "cell_type": "code",
   "source": [
    "import requests\n",
    "import pycountry\n",
    "\n",
    "# This function return the abbreviation of a country \n",
    "def get_country_abbreviation(country_name):\n",
    "    try:\n",
    "        country = pycountry.countries.get(name=country_name)\n",
    "        return country.alpha_2\n",
    "    except AttributeError:\n",
    "        return \"Country not found\""
   ],
   "id": "bd9036e527a54ac7",
   "outputs": [],
   "execution_count": 178
  },
  {
   "metadata": {
    "ExecuteTime": {
     "end_time": "2025-01-30T14:24:52.618945Z",
     "start_time": "2025-01-30T14:24:52.604949Z"
    }
   },
   "cell_type": "code",
   "source": [
    "def get_gdp_per_capita_to_df(df):\n",
    "    data = df.copy()\n",
    "    # get years and countries exist within the data\n",
    "    years = data['year'].unique().tolist()\n",
    "    countries = data['country'].unique().tolist()\n",
    "    \n",
    "    # fill the dic with the correspondent abbreviation for a country\n",
    "    country_abv = {}\n",
    "    for country in countries:\n",
    "        country_abv[country] = get_country_abbreviation(country)\n",
    "    \n",
    "    # get the GDP for each country by year\n",
    "    gdp_per_capita = {}\n",
    "    for abv in country_abv:\n",
    "        gdp_per_capita[abv] = {}\n",
    "        \n",
    "        for year in years:\n",
    "            url = f'https://api.worldbank.org/v2/country/{country_abv[abv]}/indicator/NY.GDP.PCAP.CD?date={year}&format=json'\n",
    "            resp = requests.get(url)\n",
    "            \n",
    "            if resp.status_code == 200:\n",
    "                gdp_info = resp.json()\n",
    "                gdp_year = gdp_info[1][0]['value']\n",
    "                gdp_per_capita[abv][year] = round(gdp_year,2)\n",
    "            else:\n",
    "                print(f'error {resp.status_code}')\n",
    "    \n",
    "    # add GDP column to the data\n",
    "    data['GDP'] = data.apply(lambda row: gdp_per_capita[row['country']][row['year']], axis=1)\n",
    "    return data"
   ],
   "id": "ecc422e9bf52004e",
   "outputs": [],
   "execution_count": 179
  },
  {
   "metadata": {
    "ExecuteTime": {
     "end_time": "2025-01-30T14:25:28.689754Z",
     "start_time": "2025-01-30T14:24:52.622288Z"
    }
   },
   "cell_type": "code",
   "source": "stickers_with_gdp = get_gdp_per_capita_to_df(clean_stickers)",
   "id": "72539064dd9268ed",
   "outputs": [],
   "execution_count": 180
  },
  {
   "metadata": {
    "ExecuteTime": {
     "end_time": "2025-01-30T14:25:28.720161Z",
     "start_time": "2025-01-30T14:25:28.693767Z"
    }
   },
   "cell_type": "code",
   "source": "stickers_with_gdp.head()",
   "id": "5f3899c138e307e9",
   "outputs": [
    {
     "data": {
      "text/plain": [
       "  country              store             product  num_sold  day  month  year  \\\n",
       "0  Canada  Discount Stickers              Kaggle     973.0    1      1  2010   \n",
       "1  Canada  Discount Stickers        Kaggle Tiers     906.0    1      1  2010   \n",
       "2  Canada  Discount Stickers            Kerneler     423.0    1      1  2010   \n",
       "3  Canada  Discount Stickers  Kerneler Dark Mode     491.0    1      1  2010   \n",
       "4  Canada  Stickers for Less   Holographic Goose     300.0    1      1  2010   \n",
       "\n",
       "   weekday  is_weekend       GDP  \n",
       "0        4           0  47560.67  \n",
       "1        4           0  47560.67  \n",
       "2        4           0  47560.67  \n",
       "3        4           0  47560.67  \n",
       "4        4           0  47560.67  "
      ],
      "text/html": [
       "<div>\n",
       "<style scoped>\n",
       "    .dataframe tbody tr th:only-of-type {\n",
       "        vertical-align: middle;\n",
       "    }\n",
       "\n",
       "    .dataframe tbody tr th {\n",
       "        vertical-align: top;\n",
       "    }\n",
       "\n",
       "    .dataframe thead th {\n",
       "        text-align: right;\n",
       "    }\n",
       "</style>\n",
       "<table border=\"1\" class=\"dataframe\">\n",
       "  <thead>\n",
       "    <tr style=\"text-align: right;\">\n",
       "      <th></th>\n",
       "      <th>country</th>\n",
       "      <th>store</th>\n",
       "      <th>product</th>\n",
       "      <th>num_sold</th>\n",
       "      <th>day</th>\n",
       "      <th>month</th>\n",
       "      <th>year</th>\n",
       "      <th>weekday</th>\n",
       "      <th>is_weekend</th>\n",
       "      <th>GDP</th>\n",
       "    </tr>\n",
       "  </thead>\n",
       "  <tbody>\n",
       "    <tr>\n",
       "      <th>0</th>\n",
       "      <td>Canada</td>\n",
       "      <td>Discount Stickers</td>\n",
       "      <td>Kaggle</td>\n",
       "      <td>973.0</td>\n",
       "      <td>1</td>\n",
       "      <td>1</td>\n",
       "      <td>2010</td>\n",
       "      <td>4</td>\n",
       "      <td>0</td>\n",
       "      <td>47560.67</td>\n",
       "    </tr>\n",
       "    <tr>\n",
       "      <th>1</th>\n",
       "      <td>Canada</td>\n",
       "      <td>Discount Stickers</td>\n",
       "      <td>Kaggle Tiers</td>\n",
       "      <td>906.0</td>\n",
       "      <td>1</td>\n",
       "      <td>1</td>\n",
       "      <td>2010</td>\n",
       "      <td>4</td>\n",
       "      <td>0</td>\n",
       "      <td>47560.67</td>\n",
       "    </tr>\n",
       "    <tr>\n",
       "      <th>2</th>\n",
       "      <td>Canada</td>\n",
       "      <td>Discount Stickers</td>\n",
       "      <td>Kerneler</td>\n",
       "      <td>423.0</td>\n",
       "      <td>1</td>\n",
       "      <td>1</td>\n",
       "      <td>2010</td>\n",
       "      <td>4</td>\n",
       "      <td>0</td>\n",
       "      <td>47560.67</td>\n",
       "    </tr>\n",
       "    <tr>\n",
       "      <th>3</th>\n",
       "      <td>Canada</td>\n",
       "      <td>Discount Stickers</td>\n",
       "      <td>Kerneler Dark Mode</td>\n",
       "      <td>491.0</td>\n",
       "      <td>1</td>\n",
       "      <td>1</td>\n",
       "      <td>2010</td>\n",
       "      <td>4</td>\n",
       "      <td>0</td>\n",
       "      <td>47560.67</td>\n",
       "    </tr>\n",
       "    <tr>\n",
       "      <th>4</th>\n",
       "      <td>Canada</td>\n",
       "      <td>Stickers for Less</td>\n",
       "      <td>Holographic Goose</td>\n",
       "      <td>300.0</td>\n",
       "      <td>1</td>\n",
       "      <td>1</td>\n",
       "      <td>2010</td>\n",
       "      <td>4</td>\n",
       "      <td>0</td>\n",
       "      <td>47560.67</td>\n",
       "    </tr>\n",
       "  </tbody>\n",
       "</table>\n",
       "</div>"
      ]
     },
     "execution_count": 181,
     "metadata": {},
     "output_type": "execute_result"
    }
   ],
   "execution_count": 181
  },
  {
   "metadata": {
    "ExecuteTime": {
     "end_time": "2025-01-30T14:25:28.769415Z",
     "start_time": "2025-01-30T14:25:28.724348Z"
    }
   },
   "cell_type": "code",
   "source": "stickers_with_gdp.info()",
   "id": "dd992621d3500212",
   "outputs": [
    {
     "name": "stdout",
     "output_type": "stream",
     "text": [
      "<class 'pandas.core.frame.DataFrame'>\n",
      "Index: 214629 entries, 0 to 221258\n",
      "Data columns (total 10 columns):\n",
      " #   Column      Non-Null Count   Dtype  \n",
      "---  ------      --------------   -----  \n",
      " 0   country     214629 non-null  object \n",
      " 1   store       214629 non-null  object \n",
      " 2   product     214629 non-null  object \n",
      " 3   num_sold    214629 non-null  float64\n",
      " 4   day         214629 non-null  int32  \n",
      " 5   month       214629 non-null  int32  \n",
      " 6   year        214629 non-null  int32  \n",
      " 7   weekday     214629 non-null  int32  \n",
      " 8   is_weekend  214629 non-null  int64  \n",
      " 9   GDP         214629 non-null  float64\n",
      "dtypes: float64(2), int32(4), int64(1), object(3)\n",
      "memory usage: 14.7+ MB\n"
     ]
    }
   ],
   "execution_count": 182
  },
  {
   "metadata": {
    "ExecuteTime": {
     "end_time": "2025-01-30T14:25:28.823509Z",
     "start_time": "2025-01-30T14:25:28.773433Z"
    }
   },
   "cell_type": "code",
   "source": "stickers_with_gdp.groupby('country').agg({'GDP': 'mean', 'num_sold': 'mean'}).sort_values(by=['GDP','num_sold'], ascending=True).reset_index()",
   "id": "b887ca4bf4388902",
   "outputs": [
    {
     "data": {
      "text/plain": [
       "     country           GDP     num_sold\n",
       "0      Kenya   1346.794673    20.431100\n",
       "1      Italy  34753.594767   542.241403\n",
       "2    Finland  47268.635755   747.713149\n",
       "3     Canada  48948.603441   839.497302\n",
       "4  Singapore  54820.052555   859.145735\n",
       "5     Norway  90114.349991  1093.221461"
      ],
      "text/html": [
       "<div>\n",
       "<style scoped>\n",
       "    .dataframe tbody tr th:only-of-type {\n",
       "        vertical-align: middle;\n",
       "    }\n",
       "\n",
       "    .dataframe tbody tr th {\n",
       "        vertical-align: top;\n",
       "    }\n",
       "\n",
       "    .dataframe thead th {\n",
       "        text-align: right;\n",
       "    }\n",
       "</style>\n",
       "<table border=\"1\" class=\"dataframe\">\n",
       "  <thead>\n",
       "    <tr style=\"text-align: right;\">\n",
       "      <th></th>\n",
       "      <th>country</th>\n",
       "      <th>GDP</th>\n",
       "      <th>num_sold</th>\n",
       "    </tr>\n",
       "  </thead>\n",
       "  <tbody>\n",
       "    <tr>\n",
       "      <th>0</th>\n",
       "      <td>Kenya</td>\n",
       "      <td>1346.794673</td>\n",
       "      <td>20.431100</td>\n",
       "    </tr>\n",
       "    <tr>\n",
       "      <th>1</th>\n",
       "      <td>Italy</td>\n",
       "      <td>34753.594767</td>\n",
       "      <td>542.241403</td>\n",
       "    </tr>\n",
       "    <tr>\n",
       "      <th>2</th>\n",
       "      <td>Finland</td>\n",
       "      <td>47268.635755</td>\n",
       "      <td>747.713149</td>\n",
       "    </tr>\n",
       "    <tr>\n",
       "      <th>3</th>\n",
       "      <td>Canada</td>\n",
       "      <td>48948.603441</td>\n",
       "      <td>839.497302</td>\n",
       "    </tr>\n",
       "    <tr>\n",
       "      <th>4</th>\n",
       "      <td>Singapore</td>\n",
       "      <td>54820.052555</td>\n",
       "      <td>859.145735</td>\n",
       "    </tr>\n",
       "    <tr>\n",
       "      <th>5</th>\n",
       "      <td>Norway</td>\n",
       "      <td>90114.349991</td>\n",
       "      <td>1093.221461</td>\n",
       "    </tr>\n",
       "  </tbody>\n",
       "</table>\n",
       "</div>"
      ]
     },
     "execution_count": 183,
     "metadata": {},
     "output_type": "execute_result"
    }
   ],
   "execution_count": 183
  },
  {
   "metadata": {},
   "cell_type": "markdown",
   "source": "# Country Encoding",
   "id": "b3149c5e235ab51e"
  },
  {
   "metadata": {
    "ExecuteTime": {
     "end_time": "2025-01-30T14:25:28.841632Z",
     "start_time": "2025-01-30T14:25:28.827534Z"
    }
   },
   "cell_type": "code",
   "source": [
    "def country_label_encoded(data):\n",
    "    country_list = data.groupby('country').agg({'GDP': 'mean', 'num_sold': 'mean'}).sort_values(by=['GDP','num_sold'], ascending=True).reset_index()['country'].tolist()\n",
    "    country_mapping = {country: idx for idx, country in enumerate(country_list)}\n",
    "    stickers_with_gdp['country'] = stickers_with_gdp['country'].map(country_mapping)\n",
    "    return country_mapping"
   ],
   "id": "bed0a2f1620e3fcf",
   "outputs": [],
   "execution_count": 184
  },
  {
   "metadata": {
    "ExecuteTime": {
     "end_time": "2025-01-30T14:25:28.905056Z",
     "start_time": "2025-01-30T14:25:28.851647Z"
    }
   },
   "cell_type": "code",
   "source": "country_order = country_label_encoded(stickers_with_gdp)",
   "id": "86d31e071359c778",
   "outputs": [],
   "execution_count": 185
  },
  {
   "metadata": {
    "ExecuteTime": {
     "end_time": "2025-01-30T14:25:28.923071Z",
     "start_time": "2025-01-30T14:25:28.910079Z"
    }
   },
   "cell_type": "code",
   "source": "country_order",
   "id": "161eabd89acff83c",
   "outputs": [
    {
     "data": {
      "text/plain": [
       "{'Kenya': 0,\n",
       " 'Italy': 1,\n",
       " 'Finland': 2,\n",
       " 'Canada': 3,\n",
       " 'Singapore': 4,\n",
       " 'Norway': 5}"
      ]
     },
     "execution_count": 186,
     "metadata": {},
     "output_type": "execute_result"
    }
   ],
   "execution_count": 186
  },
  {
   "metadata": {
    "ExecuteTime": {
     "end_time": "2025-01-30T14:25:28.949775Z",
     "start_time": "2025-01-30T14:25:28.927604Z"
    }
   },
   "cell_type": "code",
   "source": "stickers_with_gdp.head()",
   "id": "9b37cf3b93f6f940",
   "outputs": [
    {
     "data": {
      "text/plain": [
       "   country              store             product  num_sold  day  month  year  \\\n",
       "0        3  Discount Stickers              Kaggle     973.0    1      1  2010   \n",
       "1        3  Discount Stickers        Kaggle Tiers     906.0    1      1  2010   \n",
       "2        3  Discount Stickers            Kerneler     423.0    1      1  2010   \n",
       "3        3  Discount Stickers  Kerneler Dark Mode     491.0    1      1  2010   \n",
       "4        3  Stickers for Less   Holographic Goose     300.0    1      1  2010   \n",
       "\n",
       "   weekday  is_weekend       GDP  \n",
       "0        4           0  47560.67  \n",
       "1        4           0  47560.67  \n",
       "2        4           0  47560.67  \n",
       "3        4           0  47560.67  \n",
       "4        4           0  47560.67  "
      ],
      "text/html": [
       "<div>\n",
       "<style scoped>\n",
       "    .dataframe tbody tr th:only-of-type {\n",
       "        vertical-align: middle;\n",
       "    }\n",
       "\n",
       "    .dataframe tbody tr th {\n",
       "        vertical-align: top;\n",
       "    }\n",
       "\n",
       "    .dataframe thead th {\n",
       "        text-align: right;\n",
       "    }\n",
       "</style>\n",
       "<table border=\"1\" class=\"dataframe\">\n",
       "  <thead>\n",
       "    <tr style=\"text-align: right;\">\n",
       "      <th></th>\n",
       "      <th>country</th>\n",
       "      <th>store</th>\n",
       "      <th>product</th>\n",
       "      <th>num_sold</th>\n",
       "      <th>day</th>\n",
       "      <th>month</th>\n",
       "      <th>year</th>\n",
       "      <th>weekday</th>\n",
       "      <th>is_weekend</th>\n",
       "      <th>GDP</th>\n",
       "    </tr>\n",
       "  </thead>\n",
       "  <tbody>\n",
       "    <tr>\n",
       "      <th>0</th>\n",
       "      <td>3</td>\n",
       "      <td>Discount Stickers</td>\n",
       "      <td>Kaggle</td>\n",
       "      <td>973.0</td>\n",
       "      <td>1</td>\n",
       "      <td>1</td>\n",
       "      <td>2010</td>\n",
       "      <td>4</td>\n",
       "      <td>0</td>\n",
       "      <td>47560.67</td>\n",
       "    </tr>\n",
       "    <tr>\n",
       "      <th>1</th>\n",
       "      <td>3</td>\n",
       "      <td>Discount Stickers</td>\n",
       "      <td>Kaggle Tiers</td>\n",
       "      <td>906.0</td>\n",
       "      <td>1</td>\n",
       "      <td>1</td>\n",
       "      <td>2010</td>\n",
       "      <td>4</td>\n",
       "      <td>0</td>\n",
       "      <td>47560.67</td>\n",
       "    </tr>\n",
       "    <tr>\n",
       "      <th>2</th>\n",
       "      <td>3</td>\n",
       "      <td>Discount Stickers</td>\n",
       "      <td>Kerneler</td>\n",
       "      <td>423.0</td>\n",
       "      <td>1</td>\n",
       "      <td>1</td>\n",
       "      <td>2010</td>\n",
       "      <td>4</td>\n",
       "      <td>0</td>\n",
       "      <td>47560.67</td>\n",
       "    </tr>\n",
       "    <tr>\n",
       "      <th>3</th>\n",
       "      <td>3</td>\n",
       "      <td>Discount Stickers</td>\n",
       "      <td>Kerneler Dark Mode</td>\n",
       "      <td>491.0</td>\n",
       "      <td>1</td>\n",
       "      <td>1</td>\n",
       "      <td>2010</td>\n",
       "      <td>4</td>\n",
       "      <td>0</td>\n",
       "      <td>47560.67</td>\n",
       "    </tr>\n",
       "    <tr>\n",
       "      <th>4</th>\n",
       "      <td>3</td>\n",
       "      <td>Stickers for Less</td>\n",
       "      <td>Holographic Goose</td>\n",
       "      <td>300.0</td>\n",
       "      <td>1</td>\n",
       "      <td>1</td>\n",
       "      <td>2010</td>\n",
       "      <td>4</td>\n",
       "      <td>0</td>\n",
       "      <td>47560.67</td>\n",
       "    </tr>\n",
       "  </tbody>\n",
       "</table>\n",
       "</div>"
      ]
     },
     "execution_count": 187,
     "metadata": {},
     "output_type": "execute_result"
    }
   ],
   "execution_count": 187
  },
  {
   "metadata": {},
   "cell_type": "markdown",
   "source": "# Object Type ",
   "id": "116d2e0a56501624"
  },
  {
   "metadata": {
    "ExecuteTime": {
     "end_time": "2025-01-30T14:25:28.969869Z",
     "start_time": "2025-01-30T14:25:28.953792Z"
    }
   },
   "cell_type": "code",
   "source": [
    "obj_col = stickers_with_gdp.select_dtypes(include='object').columns\n",
    "print(obj_col)"
   ],
   "id": "f3f127e574ba186d",
   "outputs": [
    {
     "name": "stdout",
     "output_type": "stream",
     "text": [
      "Index(['store', 'product'], dtype='object')\n"
     ]
    }
   ],
   "execution_count": 188
  },
  {
   "metadata": {
    "ExecuteTime": {
     "end_time": "2025-01-30T14:25:29.017893Z",
     "start_time": "2025-01-30T14:25:28.972882Z"
    }
   },
   "cell_type": "code",
   "source": [
    "print(stickers_with_gdp['store'].unique())\n",
    "print(stickers_with_gdp['product'].unique())"
   ],
   "id": "79997c44b4f8138a",
   "outputs": [
    {
     "name": "stdout",
     "output_type": "stream",
     "text": [
      "['Discount Stickers' 'Stickers for Less' 'Premium Sticker Mart']\n",
      "['Kaggle' 'Kaggle Tiers' 'Kerneler' 'Kerneler Dark Mode'\n",
      " 'Holographic Goose']\n"
     ]
    }
   ],
   "execution_count": 189
  },
  {
   "metadata": {},
   "cell_type": "markdown",
   "source": "# One Hot Encoding",
   "id": "d83042119e722463"
  },
  {
   "metadata": {
    "ExecuteTime": {
     "end_time": "2025-01-30T14:25:29.059298Z",
     "start_time": "2025-01-30T14:25:29.020904Z"
    }
   },
   "cell_type": "code",
   "source": [
    "X = stickers_with_gdp.drop('num_sold', axis=1)\n",
    "y = stickers_with_gdp['num_sold']"
   ],
   "id": "c80bc5535ec917e5",
   "outputs": [],
   "execution_count": 190
  },
  {
   "metadata": {
    "ExecuteTime": {
     "end_time": "2025-01-30T14:25:29.317765Z",
     "start_time": "2025-01-30T14:25:29.062310Z"
    }
   },
   "cell_type": "code",
   "source": [
    "from sklearn.compose import ColumnTransformer\n",
    "from sklearn.preprocessing import OneHotEncoder\n",
    "\n",
    "transformer = ColumnTransformer(transformers=[\n",
    "    ('encoder', OneHotEncoder(sparse_output=False, drop='if_binary'), obj_col)\n",
    "    ], remainder='passthrough', verbose_feature_names_out=False\n",
    ").set_output(transform=\"pandas\")\n",
    "\n",
    "transformed_X_stickers = transformer.fit_transform(X)"
   ],
   "id": "2b03929fc64be0e7",
   "outputs": [],
   "execution_count": 191
  },
  {
   "metadata": {
    "ExecuteTime": {
     "end_time": "2025-01-30T14:25:29.347667Z",
     "start_time": "2025-01-30T14:25:29.320782Z"
    }
   },
   "cell_type": "code",
   "source": "transformed_X_stickers.head()",
   "id": "2baede3eb8f8a805",
   "outputs": [
    {
     "data": {
      "text/plain": [
       "   store_Discount Stickers  store_Premium Sticker Mart  \\\n",
       "0                      1.0                         0.0   \n",
       "1                      1.0                         0.0   \n",
       "2                      1.0                         0.0   \n",
       "3                      1.0                         0.0   \n",
       "4                      0.0                         0.0   \n",
       "\n",
       "   store_Stickers for Less  product_Holographic Goose  product_Kaggle  \\\n",
       "0                      0.0                        0.0             1.0   \n",
       "1                      0.0                        0.0             0.0   \n",
       "2                      0.0                        0.0             0.0   \n",
       "3                      0.0                        0.0             0.0   \n",
       "4                      1.0                        1.0             0.0   \n",
       "\n",
       "   product_Kaggle Tiers  product_Kerneler  product_Kerneler Dark Mode  \\\n",
       "0                   0.0               0.0                         0.0   \n",
       "1                   1.0               0.0                         0.0   \n",
       "2                   0.0               1.0                         0.0   \n",
       "3                   0.0               0.0                         1.0   \n",
       "4                   0.0               0.0                         0.0   \n",
       "\n",
       "   country  day  month  year  weekday  is_weekend       GDP  \n",
       "0        3    1      1  2010        4           0  47560.67  \n",
       "1        3    1      1  2010        4           0  47560.67  \n",
       "2        3    1      1  2010        4           0  47560.67  \n",
       "3        3    1      1  2010        4           0  47560.67  \n",
       "4        3    1      1  2010        4           0  47560.67  "
      ],
      "text/html": [
       "<div>\n",
       "<style scoped>\n",
       "    .dataframe tbody tr th:only-of-type {\n",
       "        vertical-align: middle;\n",
       "    }\n",
       "\n",
       "    .dataframe tbody tr th {\n",
       "        vertical-align: top;\n",
       "    }\n",
       "\n",
       "    .dataframe thead th {\n",
       "        text-align: right;\n",
       "    }\n",
       "</style>\n",
       "<table border=\"1\" class=\"dataframe\">\n",
       "  <thead>\n",
       "    <tr style=\"text-align: right;\">\n",
       "      <th></th>\n",
       "      <th>store_Discount Stickers</th>\n",
       "      <th>store_Premium Sticker Mart</th>\n",
       "      <th>store_Stickers for Less</th>\n",
       "      <th>product_Holographic Goose</th>\n",
       "      <th>product_Kaggle</th>\n",
       "      <th>product_Kaggle Tiers</th>\n",
       "      <th>product_Kerneler</th>\n",
       "      <th>product_Kerneler Dark Mode</th>\n",
       "      <th>country</th>\n",
       "      <th>day</th>\n",
       "      <th>month</th>\n",
       "      <th>year</th>\n",
       "      <th>weekday</th>\n",
       "      <th>is_weekend</th>\n",
       "      <th>GDP</th>\n",
       "    </tr>\n",
       "  </thead>\n",
       "  <tbody>\n",
       "    <tr>\n",
       "      <th>0</th>\n",
       "      <td>1.0</td>\n",
       "      <td>0.0</td>\n",
       "      <td>0.0</td>\n",
       "      <td>0.0</td>\n",
       "      <td>1.0</td>\n",
       "      <td>0.0</td>\n",
       "      <td>0.0</td>\n",
       "      <td>0.0</td>\n",
       "      <td>3</td>\n",
       "      <td>1</td>\n",
       "      <td>1</td>\n",
       "      <td>2010</td>\n",
       "      <td>4</td>\n",
       "      <td>0</td>\n",
       "      <td>47560.67</td>\n",
       "    </tr>\n",
       "    <tr>\n",
       "      <th>1</th>\n",
       "      <td>1.0</td>\n",
       "      <td>0.0</td>\n",
       "      <td>0.0</td>\n",
       "      <td>0.0</td>\n",
       "      <td>0.0</td>\n",
       "      <td>1.0</td>\n",
       "      <td>0.0</td>\n",
       "      <td>0.0</td>\n",
       "      <td>3</td>\n",
       "      <td>1</td>\n",
       "      <td>1</td>\n",
       "      <td>2010</td>\n",
       "      <td>4</td>\n",
       "      <td>0</td>\n",
       "      <td>47560.67</td>\n",
       "    </tr>\n",
       "    <tr>\n",
       "      <th>2</th>\n",
       "      <td>1.0</td>\n",
       "      <td>0.0</td>\n",
       "      <td>0.0</td>\n",
       "      <td>0.0</td>\n",
       "      <td>0.0</td>\n",
       "      <td>0.0</td>\n",
       "      <td>1.0</td>\n",
       "      <td>0.0</td>\n",
       "      <td>3</td>\n",
       "      <td>1</td>\n",
       "      <td>1</td>\n",
       "      <td>2010</td>\n",
       "      <td>4</td>\n",
       "      <td>0</td>\n",
       "      <td>47560.67</td>\n",
       "    </tr>\n",
       "    <tr>\n",
       "      <th>3</th>\n",
       "      <td>1.0</td>\n",
       "      <td>0.0</td>\n",
       "      <td>0.0</td>\n",
       "      <td>0.0</td>\n",
       "      <td>0.0</td>\n",
       "      <td>0.0</td>\n",
       "      <td>0.0</td>\n",
       "      <td>1.0</td>\n",
       "      <td>3</td>\n",
       "      <td>1</td>\n",
       "      <td>1</td>\n",
       "      <td>2010</td>\n",
       "      <td>4</td>\n",
       "      <td>0</td>\n",
       "      <td>47560.67</td>\n",
       "    </tr>\n",
       "    <tr>\n",
       "      <th>4</th>\n",
       "      <td>0.0</td>\n",
       "      <td>0.0</td>\n",
       "      <td>1.0</td>\n",
       "      <td>1.0</td>\n",
       "      <td>0.0</td>\n",
       "      <td>0.0</td>\n",
       "      <td>0.0</td>\n",
       "      <td>0.0</td>\n",
       "      <td>3</td>\n",
       "      <td>1</td>\n",
       "      <td>1</td>\n",
       "      <td>2010</td>\n",
       "      <td>4</td>\n",
       "      <td>0</td>\n",
       "      <td>47560.67</td>\n",
       "    </tr>\n",
       "  </tbody>\n",
       "</table>\n",
       "</div>"
      ]
     },
     "execution_count": 192,
     "metadata": {},
     "output_type": "execute_result"
    }
   ],
   "execution_count": 192
  },
  {
   "metadata": {},
   "cell_type": "markdown",
   "source": "# Model Training",
   "id": "474af0ee449ee5b8"
  },
  {
   "metadata": {
    "ExecuteTime": {
     "end_time": "2025-01-30T14:25:29.364030Z",
     "start_time": "2025-01-30T14:25:29.351686Z"
    }
   },
   "cell_type": "code",
   "source": [
    "from sklearn.model_selection import train_test_split\n",
    "from sklearn.ensemble import RandomForestRegressor\n",
    "\n",
    "rf_regressor = RandomForestRegressor(n_estimators=100, random_state=42, oob_score=True)"
   ],
   "id": "a9054d5f1684a4da",
   "outputs": [],
   "execution_count": 193
  },
  {
   "metadata": {
    "ExecuteTime": {
     "end_time": "2025-01-30T14:25:29.396148Z",
     "start_time": "2025-01-30T14:25:29.368043Z"
    }
   },
   "cell_type": "code",
   "source": [
    "col_to_delete = ['store_Discount Stickers','product_Holographic Goose']\n",
    "transformed_X_stickers.drop(col_to_delete, axis=1, inplace=True)"
   ],
   "id": "3023dcb0acc1eeba",
   "outputs": [],
   "execution_count": 194
  },
  {
   "metadata": {
    "ExecuteTime": {
     "end_time": "2025-01-30T14:25:29.501492Z",
     "start_time": "2025-01-30T14:25:29.400164Z"
    }
   },
   "cell_type": "code",
   "source": "X_train, X_test, y_train, y_test = train_test_split(transformed_X_stickers, y, test_size=0.05, random_state=42)",
   "id": "a248c102d4ec9552",
   "outputs": [],
   "execution_count": 195
  },
  {
   "metadata": {
    "ExecuteTime": {
     "end_time": "2025-01-30T14:26:50.805503Z",
     "start_time": "2025-01-30T14:25:29.504517Z"
    }
   },
   "cell_type": "code",
   "source": "rf_regressor.fit(X_train, y_train)",
   "id": "54bed6ff01b0e653",
   "outputs": [
    {
     "data": {
      "text/plain": [
       "RandomForestRegressor(oob_score=True, random_state=42)"
      ],
      "text/html": [
       "<style>#sk-container-id-4 {\n",
       "  /* Definition of color scheme common for light and dark mode */\n",
       "  --sklearn-color-text: black;\n",
       "  --sklearn-color-line: gray;\n",
       "  /* Definition of color scheme for unfitted estimators */\n",
       "  --sklearn-color-unfitted-level-0: #fff5e6;\n",
       "  --sklearn-color-unfitted-level-1: #f6e4d2;\n",
       "  --sklearn-color-unfitted-level-2: #ffe0b3;\n",
       "  --sklearn-color-unfitted-level-3: chocolate;\n",
       "  /* Definition of color scheme for fitted estimators */\n",
       "  --sklearn-color-fitted-level-0: #f0f8ff;\n",
       "  --sklearn-color-fitted-level-1: #d4ebff;\n",
       "  --sklearn-color-fitted-level-2: #b3dbfd;\n",
       "  --sklearn-color-fitted-level-3: cornflowerblue;\n",
       "\n",
       "  /* Specific color for light theme */\n",
       "  --sklearn-color-text-on-default-background: var(--sg-text-color, var(--theme-code-foreground, var(--jp-content-font-color1, black)));\n",
       "  --sklearn-color-background: var(--sg-background-color, var(--theme-background, var(--jp-layout-color0, white)));\n",
       "  --sklearn-color-border-box: var(--sg-text-color, var(--theme-code-foreground, var(--jp-content-font-color1, black)));\n",
       "  --sklearn-color-icon: #696969;\n",
       "\n",
       "  @media (prefers-color-scheme: dark) {\n",
       "    /* Redefinition of color scheme for dark theme */\n",
       "    --sklearn-color-text-on-default-background: var(--sg-text-color, var(--theme-code-foreground, var(--jp-content-font-color1, white)));\n",
       "    --sklearn-color-background: var(--sg-background-color, var(--theme-background, var(--jp-layout-color0, #111)));\n",
       "    --sklearn-color-border-box: var(--sg-text-color, var(--theme-code-foreground, var(--jp-content-font-color1, white)));\n",
       "    --sklearn-color-icon: #878787;\n",
       "  }\n",
       "}\n",
       "\n",
       "#sk-container-id-4 {\n",
       "  color: var(--sklearn-color-text);\n",
       "}\n",
       "\n",
       "#sk-container-id-4 pre {\n",
       "  padding: 0;\n",
       "}\n",
       "\n",
       "#sk-container-id-4 input.sk-hidden--visually {\n",
       "  border: 0;\n",
       "  clip: rect(1px 1px 1px 1px);\n",
       "  clip: rect(1px, 1px, 1px, 1px);\n",
       "  height: 1px;\n",
       "  margin: -1px;\n",
       "  overflow: hidden;\n",
       "  padding: 0;\n",
       "  position: absolute;\n",
       "  width: 1px;\n",
       "}\n",
       "\n",
       "#sk-container-id-4 div.sk-dashed-wrapped {\n",
       "  border: 1px dashed var(--sklearn-color-line);\n",
       "  margin: 0 0.4em 0.5em 0.4em;\n",
       "  box-sizing: border-box;\n",
       "  padding-bottom: 0.4em;\n",
       "  background-color: var(--sklearn-color-background);\n",
       "}\n",
       "\n",
       "#sk-container-id-4 div.sk-container {\n",
       "  /* jupyter's `normalize.less` sets `[hidden] { display: none; }`\n",
       "     but bootstrap.min.css set `[hidden] { display: none !important; }`\n",
       "     so we also need the `!important` here to be able to override the\n",
       "     default hidden behavior on the sphinx rendered scikit-learn.org.\n",
       "     See: https://github.com/scikit-learn/scikit-learn/issues/21755 */\n",
       "  display: inline-block !important;\n",
       "  position: relative;\n",
       "}\n",
       "\n",
       "#sk-container-id-4 div.sk-text-repr-fallback {\n",
       "  display: none;\n",
       "}\n",
       "\n",
       "div.sk-parallel-item,\n",
       "div.sk-serial,\n",
       "div.sk-item {\n",
       "  /* draw centered vertical line to link estimators */\n",
       "  background-image: linear-gradient(var(--sklearn-color-text-on-default-background), var(--sklearn-color-text-on-default-background));\n",
       "  background-size: 2px 100%;\n",
       "  background-repeat: no-repeat;\n",
       "  background-position: center center;\n",
       "}\n",
       "\n",
       "/* Parallel-specific style estimator block */\n",
       "\n",
       "#sk-container-id-4 div.sk-parallel-item::after {\n",
       "  content: \"\";\n",
       "  width: 100%;\n",
       "  border-bottom: 2px solid var(--sklearn-color-text-on-default-background);\n",
       "  flex-grow: 1;\n",
       "}\n",
       "\n",
       "#sk-container-id-4 div.sk-parallel {\n",
       "  display: flex;\n",
       "  align-items: stretch;\n",
       "  justify-content: center;\n",
       "  background-color: var(--sklearn-color-background);\n",
       "  position: relative;\n",
       "}\n",
       "\n",
       "#sk-container-id-4 div.sk-parallel-item {\n",
       "  display: flex;\n",
       "  flex-direction: column;\n",
       "}\n",
       "\n",
       "#sk-container-id-4 div.sk-parallel-item:first-child::after {\n",
       "  align-self: flex-end;\n",
       "  width: 50%;\n",
       "}\n",
       "\n",
       "#sk-container-id-4 div.sk-parallel-item:last-child::after {\n",
       "  align-self: flex-start;\n",
       "  width: 50%;\n",
       "}\n",
       "\n",
       "#sk-container-id-4 div.sk-parallel-item:only-child::after {\n",
       "  width: 0;\n",
       "}\n",
       "\n",
       "/* Serial-specific style estimator block */\n",
       "\n",
       "#sk-container-id-4 div.sk-serial {\n",
       "  display: flex;\n",
       "  flex-direction: column;\n",
       "  align-items: center;\n",
       "  background-color: var(--sklearn-color-background);\n",
       "  padding-right: 1em;\n",
       "  padding-left: 1em;\n",
       "}\n",
       "\n",
       "\n",
       "/* Toggleable style: style used for estimator/Pipeline/ColumnTransformer box that is\n",
       "clickable and can be expanded/collapsed.\n",
       "- Pipeline and ColumnTransformer use this feature and define the default style\n",
       "- Estimators will overwrite some part of the style using the `sk-estimator` class\n",
       "*/\n",
       "\n",
       "/* Pipeline and ColumnTransformer style (default) */\n",
       "\n",
       "#sk-container-id-4 div.sk-toggleable {\n",
       "  /* Default theme specific background. It is overwritten whether we have a\n",
       "  specific estimator or a Pipeline/ColumnTransformer */\n",
       "  background-color: var(--sklearn-color-background);\n",
       "}\n",
       "\n",
       "/* Toggleable label */\n",
       "#sk-container-id-4 label.sk-toggleable__label {\n",
       "  cursor: pointer;\n",
       "  display: block;\n",
       "  width: 100%;\n",
       "  margin-bottom: 0;\n",
       "  padding: 0.5em;\n",
       "  box-sizing: border-box;\n",
       "  text-align: center;\n",
       "}\n",
       "\n",
       "#sk-container-id-4 label.sk-toggleable__label-arrow:before {\n",
       "  /* Arrow on the left of the label */\n",
       "  content: \"▸\";\n",
       "  float: left;\n",
       "  margin-right: 0.25em;\n",
       "  color: var(--sklearn-color-icon);\n",
       "}\n",
       "\n",
       "#sk-container-id-4 label.sk-toggleable__label-arrow:hover:before {\n",
       "  color: var(--sklearn-color-text);\n",
       "}\n",
       "\n",
       "/* Toggleable content - dropdown */\n",
       "\n",
       "#sk-container-id-4 div.sk-toggleable__content {\n",
       "  max-height: 0;\n",
       "  max-width: 0;\n",
       "  overflow: hidden;\n",
       "  text-align: left;\n",
       "  /* unfitted */\n",
       "  background-color: var(--sklearn-color-unfitted-level-0);\n",
       "}\n",
       "\n",
       "#sk-container-id-4 div.sk-toggleable__content.fitted {\n",
       "  /* fitted */\n",
       "  background-color: var(--sklearn-color-fitted-level-0);\n",
       "}\n",
       "\n",
       "#sk-container-id-4 div.sk-toggleable__content pre {\n",
       "  margin: 0.2em;\n",
       "  border-radius: 0.25em;\n",
       "  color: var(--sklearn-color-text);\n",
       "  /* unfitted */\n",
       "  background-color: var(--sklearn-color-unfitted-level-0);\n",
       "}\n",
       "\n",
       "#sk-container-id-4 div.sk-toggleable__content.fitted pre {\n",
       "  /* unfitted */\n",
       "  background-color: var(--sklearn-color-fitted-level-0);\n",
       "}\n",
       "\n",
       "#sk-container-id-4 input.sk-toggleable__control:checked~div.sk-toggleable__content {\n",
       "  /* Expand drop-down */\n",
       "  max-height: 200px;\n",
       "  max-width: 100%;\n",
       "  overflow: auto;\n",
       "}\n",
       "\n",
       "#sk-container-id-4 input.sk-toggleable__control:checked~label.sk-toggleable__label-arrow:before {\n",
       "  content: \"▾\";\n",
       "}\n",
       "\n",
       "/* Pipeline/ColumnTransformer-specific style */\n",
       "\n",
       "#sk-container-id-4 div.sk-label input.sk-toggleable__control:checked~label.sk-toggleable__label {\n",
       "  color: var(--sklearn-color-text);\n",
       "  background-color: var(--sklearn-color-unfitted-level-2);\n",
       "}\n",
       "\n",
       "#sk-container-id-4 div.sk-label.fitted input.sk-toggleable__control:checked~label.sk-toggleable__label {\n",
       "  background-color: var(--sklearn-color-fitted-level-2);\n",
       "}\n",
       "\n",
       "/* Estimator-specific style */\n",
       "\n",
       "/* Colorize estimator box */\n",
       "#sk-container-id-4 div.sk-estimator input.sk-toggleable__control:checked~label.sk-toggleable__label {\n",
       "  /* unfitted */\n",
       "  background-color: var(--sklearn-color-unfitted-level-2);\n",
       "}\n",
       "\n",
       "#sk-container-id-4 div.sk-estimator.fitted input.sk-toggleable__control:checked~label.sk-toggleable__label {\n",
       "  /* fitted */\n",
       "  background-color: var(--sklearn-color-fitted-level-2);\n",
       "}\n",
       "\n",
       "#sk-container-id-4 div.sk-label label.sk-toggleable__label,\n",
       "#sk-container-id-4 div.sk-label label {\n",
       "  /* The background is the default theme color */\n",
       "  color: var(--sklearn-color-text-on-default-background);\n",
       "}\n",
       "\n",
       "/* On hover, darken the color of the background */\n",
       "#sk-container-id-4 div.sk-label:hover label.sk-toggleable__label {\n",
       "  color: var(--sklearn-color-text);\n",
       "  background-color: var(--sklearn-color-unfitted-level-2);\n",
       "}\n",
       "\n",
       "/* Label box, darken color on hover, fitted */\n",
       "#sk-container-id-4 div.sk-label.fitted:hover label.sk-toggleable__label.fitted {\n",
       "  color: var(--sklearn-color-text);\n",
       "  background-color: var(--sklearn-color-fitted-level-2);\n",
       "}\n",
       "\n",
       "/* Estimator label */\n",
       "\n",
       "#sk-container-id-4 div.sk-label label {\n",
       "  font-family: monospace;\n",
       "  font-weight: bold;\n",
       "  display: inline-block;\n",
       "  line-height: 1.2em;\n",
       "}\n",
       "\n",
       "#sk-container-id-4 div.sk-label-container {\n",
       "  text-align: center;\n",
       "}\n",
       "\n",
       "/* Estimator-specific */\n",
       "#sk-container-id-4 div.sk-estimator {\n",
       "  font-family: monospace;\n",
       "  border: 1px dotted var(--sklearn-color-border-box);\n",
       "  border-radius: 0.25em;\n",
       "  box-sizing: border-box;\n",
       "  margin-bottom: 0.5em;\n",
       "  /* unfitted */\n",
       "  background-color: var(--sklearn-color-unfitted-level-0);\n",
       "}\n",
       "\n",
       "#sk-container-id-4 div.sk-estimator.fitted {\n",
       "  /* fitted */\n",
       "  background-color: var(--sklearn-color-fitted-level-0);\n",
       "}\n",
       "\n",
       "/* on hover */\n",
       "#sk-container-id-4 div.sk-estimator:hover {\n",
       "  /* unfitted */\n",
       "  background-color: var(--sklearn-color-unfitted-level-2);\n",
       "}\n",
       "\n",
       "#sk-container-id-4 div.sk-estimator.fitted:hover {\n",
       "  /* fitted */\n",
       "  background-color: var(--sklearn-color-fitted-level-2);\n",
       "}\n",
       "\n",
       "/* Specification for estimator info (e.g. \"i\" and \"?\") */\n",
       "\n",
       "/* Common style for \"i\" and \"?\" */\n",
       "\n",
       ".sk-estimator-doc-link,\n",
       "a:link.sk-estimator-doc-link,\n",
       "a:visited.sk-estimator-doc-link {\n",
       "  float: right;\n",
       "  font-size: smaller;\n",
       "  line-height: 1em;\n",
       "  font-family: monospace;\n",
       "  background-color: var(--sklearn-color-background);\n",
       "  border-radius: 1em;\n",
       "  height: 1em;\n",
       "  width: 1em;\n",
       "  text-decoration: none !important;\n",
       "  margin-left: 1ex;\n",
       "  /* unfitted */\n",
       "  border: var(--sklearn-color-unfitted-level-1) 1pt solid;\n",
       "  color: var(--sklearn-color-unfitted-level-1);\n",
       "}\n",
       "\n",
       ".sk-estimator-doc-link.fitted,\n",
       "a:link.sk-estimator-doc-link.fitted,\n",
       "a:visited.sk-estimator-doc-link.fitted {\n",
       "  /* fitted */\n",
       "  border: var(--sklearn-color-fitted-level-1) 1pt solid;\n",
       "  color: var(--sklearn-color-fitted-level-1);\n",
       "}\n",
       "\n",
       "/* On hover */\n",
       "div.sk-estimator:hover .sk-estimator-doc-link:hover,\n",
       ".sk-estimator-doc-link:hover,\n",
       "div.sk-label-container:hover .sk-estimator-doc-link:hover,\n",
       ".sk-estimator-doc-link:hover {\n",
       "  /* unfitted */\n",
       "  background-color: var(--sklearn-color-unfitted-level-3);\n",
       "  color: var(--sklearn-color-background);\n",
       "  text-decoration: none;\n",
       "}\n",
       "\n",
       "div.sk-estimator.fitted:hover .sk-estimator-doc-link.fitted:hover,\n",
       ".sk-estimator-doc-link.fitted:hover,\n",
       "div.sk-label-container:hover .sk-estimator-doc-link.fitted:hover,\n",
       ".sk-estimator-doc-link.fitted:hover {\n",
       "  /* fitted */\n",
       "  background-color: var(--sklearn-color-fitted-level-3);\n",
       "  color: var(--sklearn-color-background);\n",
       "  text-decoration: none;\n",
       "}\n",
       "\n",
       "/* Span, style for the box shown on hovering the info icon */\n",
       ".sk-estimator-doc-link span {\n",
       "  display: none;\n",
       "  z-index: 9999;\n",
       "  position: relative;\n",
       "  font-weight: normal;\n",
       "  right: .2ex;\n",
       "  padding: .5ex;\n",
       "  margin: .5ex;\n",
       "  width: min-content;\n",
       "  min-width: 20ex;\n",
       "  max-width: 50ex;\n",
       "  color: var(--sklearn-color-text);\n",
       "  box-shadow: 2pt 2pt 4pt #999;\n",
       "  /* unfitted */\n",
       "  background: var(--sklearn-color-unfitted-level-0);\n",
       "  border: .5pt solid var(--sklearn-color-unfitted-level-3);\n",
       "}\n",
       "\n",
       ".sk-estimator-doc-link.fitted span {\n",
       "  /* fitted */\n",
       "  background: var(--sklearn-color-fitted-level-0);\n",
       "  border: var(--sklearn-color-fitted-level-3);\n",
       "}\n",
       "\n",
       ".sk-estimator-doc-link:hover span {\n",
       "  display: block;\n",
       "}\n",
       "\n",
       "/* \"?\"-specific style due to the `<a>` HTML tag */\n",
       "\n",
       "#sk-container-id-4 a.estimator_doc_link {\n",
       "  float: right;\n",
       "  font-size: 1rem;\n",
       "  line-height: 1em;\n",
       "  font-family: monospace;\n",
       "  background-color: var(--sklearn-color-background);\n",
       "  border-radius: 1rem;\n",
       "  height: 1rem;\n",
       "  width: 1rem;\n",
       "  text-decoration: none;\n",
       "  /* unfitted */\n",
       "  color: var(--sklearn-color-unfitted-level-1);\n",
       "  border: var(--sklearn-color-unfitted-level-1) 1pt solid;\n",
       "}\n",
       "\n",
       "#sk-container-id-4 a.estimator_doc_link.fitted {\n",
       "  /* fitted */\n",
       "  border: var(--sklearn-color-fitted-level-1) 1pt solid;\n",
       "  color: var(--sklearn-color-fitted-level-1);\n",
       "}\n",
       "\n",
       "/* On hover */\n",
       "#sk-container-id-4 a.estimator_doc_link:hover {\n",
       "  /* unfitted */\n",
       "  background-color: var(--sklearn-color-unfitted-level-3);\n",
       "  color: var(--sklearn-color-background);\n",
       "  text-decoration: none;\n",
       "}\n",
       "\n",
       "#sk-container-id-4 a.estimator_doc_link.fitted:hover {\n",
       "  /* fitted */\n",
       "  background-color: var(--sklearn-color-fitted-level-3);\n",
       "}\n",
       "</style><div id=\"sk-container-id-4\" class=\"sk-top-container\"><div class=\"sk-text-repr-fallback\"><pre>RandomForestRegressor(oob_score=True, random_state=42)</pre><b>In a Jupyter environment, please rerun this cell to show the HTML representation or trust the notebook. <br />On GitHub, the HTML representation is unable to render, please try loading this page with nbviewer.org.</b></div><div class=\"sk-container\" hidden><div class=\"sk-item\"><div class=\"sk-estimator fitted sk-toggleable\"><input class=\"sk-toggleable__control sk-hidden--visually\" id=\"sk-estimator-id-4\" type=\"checkbox\" checked><label for=\"sk-estimator-id-4\" class=\"sk-toggleable__label fitted sk-toggleable__label-arrow fitted\">&nbsp;&nbsp;RandomForestRegressor<a class=\"sk-estimator-doc-link fitted\" rel=\"noreferrer\" target=\"_blank\" href=\"https://scikit-learn.org/1.5/modules/generated/sklearn.ensemble.RandomForestRegressor.html\">?<span>Documentation for RandomForestRegressor</span></a><span class=\"sk-estimator-doc-link fitted\">i<span>Fitted</span></span></label><div class=\"sk-toggleable__content fitted\"><pre>RandomForestRegressor(oob_score=True, random_state=42)</pre></div> </div></div></div></div>"
      ]
     },
     "execution_count": 196,
     "metadata": {},
     "output_type": "execute_result"
    }
   ],
   "execution_count": 196
  },
  {
   "metadata": {},
   "cell_type": "code",
   "source": "rf_regressor.oob_score_",
   "id": "898cb0ca8d6d7b3d",
   "outputs": [
    {
     "data": {
      "text/plain": [
       "0.9900318900310058"
      ]
     },
     "execution_count": 197,
     "metadata": {},
     "output_type": "execute_result"
    }
   ],
   "execution_count": 197
  },
  {
   "metadata": {
    "ExecuteTime": {
     "end_time": "2025-01-30T14:26:57.165302Z",
     "start_time": "2025-01-30T14:26:50.823860Z"
    }
   },
   "cell_type": "code",
   "source": "rf_regressor.score(transformed_X_stickers, y)",
   "id": "a0b41fc1175852b3",
   "outputs": [
    {
     "data": {
      "text/plain": [
       "0.9981854787239259"
      ]
     },
     "execution_count": 198,
     "metadata": {},
     "output_type": "execute_result"
    }
   ],
   "execution_count": 198
  },
  {
   "metadata": {
    "ExecuteTime": {
     "end_time": "2025-01-30T14:26:58.628078Z",
     "start_time": "2025-01-30T14:26:57.168315Z"
    }
   },
   "cell_type": "code",
   "source": [
    "from sklearn.metrics import mean_squared_error, mean_absolute_percentage_error\n",
    "\n",
    "rmse = mean_squared_error(y_test, rf_regressor.predict(X_test))\n",
    "rmsep = mean_absolute_percentage_error(y_test, rf_regressor.predict(X_test)) "
   ],
   "id": "a21ca7e714df11b3",
   "outputs": [],
   "execution_count": 199
  },
  {
   "metadata": {
    "ExecuteTime": {
     "end_time": "2025-01-30T14:26:58.643087Z",
     "start_time": "2025-01-30T14:26:58.630086Z"
    }
   },
   "cell_type": "code",
   "source": "rmse, rmsep",
   "id": "a66dea18e5bc0184",
   "outputs": [
    {
     "data": {
      "text/plain": [
       "(3271.8948135575847, 0.050480933901925)"
      ]
     },
     "execution_count": 200,
     "metadata": {},
     "output_type": "execute_result"
    }
   ],
   "execution_count": 200
  },
  {
   "metadata": {},
   "cell_type": "markdown",
   "source": "# Prediction for Test Dataset",
   "id": "43097ec24097a55d"
  },
  {
   "metadata": {
    "ExecuteTime": {
     "end_time": "2025-01-30T14:26:58.771755Z",
     "start_time": "2025-01-30T14:26:58.645443Z"
    }
   },
   "cell_type": "code",
   "source": "test_df = pd.read_csv('data/test.csv')  ",
   "id": "de3b18da8f576256",
   "outputs": [],
   "execution_count": 201
  },
  {
   "metadata": {
    "ExecuteTime": {
     "end_time": "2025-01-30T14:26:58.923616Z",
     "start_time": "2025-01-30T14:26:58.773771Z"
    }
   },
   "cell_type": "code",
   "source": [
    "test_df_date_decomposition = get_day_month_year(test_df.drop('id',axis=1))\n",
    "test_df_date_decomposition.head()"
   ],
   "id": "32bac698787d2653",
   "outputs": [
    {
     "data": {
      "text/plain": [
       "  country              store             product  day  month  year  weekday  \\\n",
       "0  Canada  Discount Stickers   Holographic Goose    1      1  2017        6   \n",
       "1  Canada  Discount Stickers              Kaggle    1      1  2017        6   \n",
       "2  Canada  Discount Stickers        Kaggle Tiers    1      1  2017        6   \n",
       "3  Canada  Discount Stickers            Kerneler    1      1  2017        6   \n",
       "4  Canada  Discount Stickers  Kerneler Dark Mode    1      1  2017        6   \n",
       "\n",
       "   is_weekend  \n",
       "0           0  \n",
       "1           0  \n",
       "2           0  \n",
       "3           0  \n",
       "4           0  "
      ],
      "text/html": [
       "<div>\n",
       "<style scoped>\n",
       "    .dataframe tbody tr th:only-of-type {\n",
       "        vertical-align: middle;\n",
       "    }\n",
       "\n",
       "    .dataframe tbody tr th {\n",
       "        vertical-align: top;\n",
       "    }\n",
       "\n",
       "    .dataframe thead th {\n",
       "        text-align: right;\n",
       "    }\n",
       "</style>\n",
       "<table border=\"1\" class=\"dataframe\">\n",
       "  <thead>\n",
       "    <tr style=\"text-align: right;\">\n",
       "      <th></th>\n",
       "      <th>country</th>\n",
       "      <th>store</th>\n",
       "      <th>product</th>\n",
       "      <th>day</th>\n",
       "      <th>month</th>\n",
       "      <th>year</th>\n",
       "      <th>weekday</th>\n",
       "      <th>is_weekend</th>\n",
       "    </tr>\n",
       "  </thead>\n",
       "  <tbody>\n",
       "    <tr>\n",
       "      <th>0</th>\n",
       "      <td>Canada</td>\n",
       "      <td>Discount Stickers</td>\n",
       "      <td>Holographic Goose</td>\n",
       "      <td>1</td>\n",
       "      <td>1</td>\n",
       "      <td>2017</td>\n",
       "      <td>6</td>\n",
       "      <td>0</td>\n",
       "    </tr>\n",
       "    <tr>\n",
       "      <th>1</th>\n",
       "      <td>Canada</td>\n",
       "      <td>Discount Stickers</td>\n",
       "      <td>Kaggle</td>\n",
       "      <td>1</td>\n",
       "      <td>1</td>\n",
       "      <td>2017</td>\n",
       "      <td>6</td>\n",
       "      <td>0</td>\n",
       "    </tr>\n",
       "    <tr>\n",
       "      <th>2</th>\n",
       "      <td>Canada</td>\n",
       "      <td>Discount Stickers</td>\n",
       "      <td>Kaggle Tiers</td>\n",
       "      <td>1</td>\n",
       "      <td>1</td>\n",
       "      <td>2017</td>\n",
       "      <td>6</td>\n",
       "      <td>0</td>\n",
       "    </tr>\n",
       "    <tr>\n",
       "      <th>3</th>\n",
       "      <td>Canada</td>\n",
       "      <td>Discount Stickers</td>\n",
       "      <td>Kerneler</td>\n",
       "      <td>1</td>\n",
       "      <td>1</td>\n",
       "      <td>2017</td>\n",
       "      <td>6</td>\n",
       "      <td>0</td>\n",
       "    </tr>\n",
       "    <tr>\n",
       "      <th>4</th>\n",
       "      <td>Canada</td>\n",
       "      <td>Discount Stickers</td>\n",
       "      <td>Kerneler Dark Mode</td>\n",
       "      <td>1</td>\n",
       "      <td>1</td>\n",
       "      <td>2017</td>\n",
       "      <td>6</td>\n",
       "      <td>0</td>\n",
       "    </tr>\n",
       "  </tbody>\n",
       "</table>\n",
       "</div>"
      ]
     },
     "execution_count": 202,
     "metadata": {},
     "output_type": "execute_result"
    }
   ],
   "execution_count": 202
  },
  {
   "metadata": {
    "ExecuteTime": {
     "end_time": "2025-01-30T14:27:15.359614Z",
     "start_time": "2025-01-30T14:26:58.926636Z"
    }
   },
   "cell_type": "code",
   "source": "test_df_gdp = get_gdp_per_capita_to_df(test_df_date_decomposition)",
   "id": "963ff4d339af3c50",
   "outputs": [],
   "execution_count": 203
  },
  {
   "metadata": {
    "ExecuteTime": {
     "end_time": "2025-01-30T14:33:57.371354Z",
     "start_time": "2025-01-30T14:33:56.419048Z"
    }
   },
   "cell_type": "code",
   "source": "test_df_gdp['country'] = test_df_gdp['country'].map(country_order)",
   "id": "c47cb33997d14059",
   "outputs": [],
   "execution_count": 205
  },
  {
   "metadata": {
    "ExecuteTime": {
     "end_time": "2025-01-30T14:33:58.647085Z",
     "start_time": "2025-01-30T14:33:58.587964Z"
    }
   },
   "cell_type": "code",
   "source": "test_df_gdp.head()",
   "id": "e7f5ded72ec1e74e",
   "outputs": [
    {
     "data": {
      "text/plain": [
       "   country              store             product  day  month  year  weekday  \\\n",
       "0        3  Discount Stickers   Holographic Goose    1      1  2017        6   \n",
       "1        3  Discount Stickers              Kaggle    1      1  2017        6   \n",
       "2        3  Discount Stickers        Kaggle Tiers    1      1  2017        6   \n",
       "3        3  Discount Stickers            Kerneler    1      1  2017        6   \n",
       "4        3  Discount Stickers  Kerneler Dark Mode    1      1  2017        6   \n",
       "\n",
       "   is_weekend       GDP  \n",
       "0           0  45129.63  \n",
       "1           0  45129.63  \n",
       "2           0  45129.63  \n",
       "3           0  45129.63  \n",
       "4           0  45129.63  "
      ],
      "text/html": [
       "<div>\n",
       "<style scoped>\n",
       "    .dataframe tbody tr th:only-of-type {\n",
       "        vertical-align: middle;\n",
       "    }\n",
       "\n",
       "    .dataframe tbody tr th {\n",
       "        vertical-align: top;\n",
       "    }\n",
       "\n",
       "    .dataframe thead th {\n",
       "        text-align: right;\n",
       "    }\n",
       "</style>\n",
       "<table border=\"1\" class=\"dataframe\">\n",
       "  <thead>\n",
       "    <tr style=\"text-align: right;\">\n",
       "      <th></th>\n",
       "      <th>country</th>\n",
       "      <th>store</th>\n",
       "      <th>product</th>\n",
       "      <th>day</th>\n",
       "      <th>month</th>\n",
       "      <th>year</th>\n",
       "      <th>weekday</th>\n",
       "      <th>is_weekend</th>\n",
       "      <th>GDP</th>\n",
       "    </tr>\n",
       "  </thead>\n",
       "  <tbody>\n",
       "    <tr>\n",
       "      <th>0</th>\n",
       "      <td>3</td>\n",
       "      <td>Discount Stickers</td>\n",
       "      <td>Holographic Goose</td>\n",
       "      <td>1</td>\n",
       "      <td>1</td>\n",
       "      <td>2017</td>\n",
       "      <td>6</td>\n",
       "      <td>0</td>\n",
       "      <td>45129.63</td>\n",
       "    </tr>\n",
       "    <tr>\n",
       "      <th>1</th>\n",
       "      <td>3</td>\n",
       "      <td>Discount Stickers</td>\n",
       "      <td>Kaggle</td>\n",
       "      <td>1</td>\n",
       "      <td>1</td>\n",
       "      <td>2017</td>\n",
       "      <td>6</td>\n",
       "      <td>0</td>\n",
       "      <td>45129.63</td>\n",
       "    </tr>\n",
       "    <tr>\n",
       "      <th>2</th>\n",
       "      <td>3</td>\n",
       "      <td>Discount Stickers</td>\n",
       "      <td>Kaggle Tiers</td>\n",
       "      <td>1</td>\n",
       "      <td>1</td>\n",
       "      <td>2017</td>\n",
       "      <td>6</td>\n",
       "      <td>0</td>\n",
       "      <td>45129.63</td>\n",
       "    </tr>\n",
       "    <tr>\n",
       "      <th>3</th>\n",
       "      <td>3</td>\n",
       "      <td>Discount Stickers</td>\n",
       "      <td>Kerneler</td>\n",
       "      <td>1</td>\n",
       "      <td>1</td>\n",
       "      <td>2017</td>\n",
       "      <td>6</td>\n",
       "      <td>0</td>\n",
       "      <td>45129.63</td>\n",
       "    </tr>\n",
       "    <tr>\n",
       "      <th>4</th>\n",
       "      <td>3</td>\n",
       "      <td>Discount Stickers</td>\n",
       "      <td>Kerneler Dark Mode</td>\n",
       "      <td>1</td>\n",
       "      <td>1</td>\n",
       "      <td>2017</td>\n",
       "      <td>6</td>\n",
       "      <td>0</td>\n",
       "      <td>45129.63</td>\n",
       "    </tr>\n",
       "  </tbody>\n",
       "</table>\n",
       "</div>"
      ]
     },
     "execution_count": 206,
     "metadata": {},
     "output_type": "execute_result"
    }
   ],
   "execution_count": 206
  },
  {
   "metadata": {
    "ExecuteTime": {
     "end_time": "2025-01-30T14:34:11.592365Z",
     "start_time": "2025-01-30T14:34:11.288566Z"
    }
   },
   "cell_type": "code",
   "source": [
    "transformed_test_df = transformer.transform(test_df_gdp) \n",
    "transformed_test_df.drop(col_to_delete, axis=1, inplace=True)"
   ],
   "id": "6395688407023d1c",
   "outputs": [],
   "execution_count": 207
  },
  {
   "metadata": {
    "ExecuteTime": {
     "end_time": "2025-01-30T14:34:13.181899Z",
     "start_time": "2025-01-30T14:34:13.143069Z"
    }
   },
   "cell_type": "code",
   "source": "transformed_test_df.head()",
   "id": "3eb2caee40444a82",
   "outputs": [
    {
     "data": {
      "text/plain": [
       "   store_Premium Sticker Mart  store_Stickers for Less  product_Kaggle  \\\n",
       "0                         0.0                      0.0             0.0   \n",
       "1                         0.0                      0.0             1.0   \n",
       "2                         0.0                      0.0             0.0   \n",
       "3                         0.0                      0.0             0.0   \n",
       "4                         0.0                      0.0             0.0   \n",
       "\n",
       "   product_Kaggle Tiers  product_Kerneler  product_Kerneler Dark Mode  \\\n",
       "0                   0.0               0.0                         0.0   \n",
       "1                   0.0               0.0                         0.0   \n",
       "2                   1.0               0.0                         0.0   \n",
       "3                   0.0               1.0                         0.0   \n",
       "4                   0.0               0.0                         1.0   \n",
       "\n",
       "   country  day  month  year  weekday  is_weekend       GDP  \n",
       "0        3    1      1  2017        6           0  45129.63  \n",
       "1        3    1      1  2017        6           0  45129.63  \n",
       "2        3    1      1  2017        6           0  45129.63  \n",
       "3        3    1      1  2017        6           0  45129.63  \n",
       "4        3    1      1  2017        6           0  45129.63  "
      ],
      "text/html": [
       "<div>\n",
       "<style scoped>\n",
       "    .dataframe tbody tr th:only-of-type {\n",
       "        vertical-align: middle;\n",
       "    }\n",
       "\n",
       "    .dataframe tbody tr th {\n",
       "        vertical-align: top;\n",
       "    }\n",
       "\n",
       "    .dataframe thead th {\n",
       "        text-align: right;\n",
       "    }\n",
       "</style>\n",
       "<table border=\"1\" class=\"dataframe\">\n",
       "  <thead>\n",
       "    <tr style=\"text-align: right;\">\n",
       "      <th></th>\n",
       "      <th>store_Premium Sticker Mart</th>\n",
       "      <th>store_Stickers for Less</th>\n",
       "      <th>product_Kaggle</th>\n",
       "      <th>product_Kaggle Tiers</th>\n",
       "      <th>product_Kerneler</th>\n",
       "      <th>product_Kerneler Dark Mode</th>\n",
       "      <th>country</th>\n",
       "      <th>day</th>\n",
       "      <th>month</th>\n",
       "      <th>year</th>\n",
       "      <th>weekday</th>\n",
       "      <th>is_weekend</th>\n",
       "      <th>GDP</th>\n",
       "    </tr>\n",
       "  </thead>\n",
       "  <tbody>\n",
       "    <tr>\n",
       "      <th>0</th>\n",
       "      <td>0.0</td>\n",
       "      <td>0.0</td>\n",
       "      <td>0.0</td>\n",
       "      <td>0.0</td>\n",
       "      <td>0.0</td>\n",
       "      <td>0.0</td>\n",
       "      <td>3</td>\n",
       "      <td>1</td>\n",
       "      <td>1</td>\n",
       "      <td>2017</td>\n",
       "      <td>6</td>\n",
       "      <td>0</td>\n",
       "      <td>45129.63</td>\n",
       "    </tr>\n",
       "    <tr>\n",
       "      <th>1</th>\n",
       "      <td>0.0</td>\n",
       "      <td>0.0</td>\n",
       "      <td>1.0</td>\n",
       "      <td>0.0</td>\n",
       "      <td>0.0</td>\n",
       "      <td>0.0</td>\n",
       "      <td>3</td>\n",
       "      <td>1</td>\n",
       "      <td>1</td>\n",
       "      <td>2017</td>\n",
       "      <td>6</td>\n",
       "      <td>0</td>\n",
       "      <td>45129.63</td>\n",
       "    </tr>\n",
       "    <tr>\n",
       "      <th>2</th>\n",
       "      <td>0.0</td>\n",
       "      <td>0.0</td>\n",
       "      <td>0.0</td>\n",
       "      <td>1.0</td>\n",
       "      <td>0.0</td>\n",
       "      <td>0.0</td>\n",
       "      <td>3</td>\n",
       "      <td>1</td>\n",
       "      <td>1</td>\n",
       "      <td>2017</td>\n",
       "      <td>6</td>\n",
       "      <td>0</td>\n",
       "      <td>45129.63</td>\n",
       "    </tr>\n",
       "    <tr>\n",
       "      <th>3</th>\n",
       "      <td>0.0</td>\n",
       "      <td>0.0</td>\n",
       "      <td>0.0</td>\n",
       "      <td>0.0</td>\n",
       "      <td>1.0</td>\n",
       "      <td>0.0</td>\n",
       "      <td>3</td>\n",
       "      <td>1</td>\n",
       "      <td>1</td>\n",
       "      <td>2017</td>\n",
       "      <td>6</td>\n",
       "      <td>0</td>\n",
       "      <td>45129.63</td>\n",
       "    </tr>\n",
       "    <tr>\n",
       "      <th>4</th>\n",
       "      <td>0.0</td>\n",
       "      <td>0.0</td>\n",
       "      <td>0.0</td>\n",
       "      <td>0.0</td>\n",
       "      <td>0.0</td>\n",
       "      <td>1.0</td>\n",
       "      <td>3</td>\n",
       "      <td>1</td>\n",
       "      <td>1</td>\n",
       "      <td>2017</td>\n",
       "      <td>6</td>\n",
       "      <td>0</td>\n",
       "      <td>45129.63</td>\n",
       "    </tr>\n",
       "  </tbody>\n",
       "</table>\n",
       "</div>"
      ]
     },
     "execution_count": 208,
     "metadata": {},
     "output_type": "execute_result"
    }
   ],
   "execution_count": 208
  },
  {
   "metadata": {
    "ExecuteTime": {
     "end_time": "2025-01-30T14:34:34.032766Z",
     "start_time": "2025-01-30T14:34:14.660247Z"
    }
   },
   "cell_type": "code",
   "source": "pred = rf_regressor.predict(transformed_test_df)",
   "id": "8f20017ff496e3db",
   "outputs": [],
   "execution_count": 209
  },
  {
   "metadata": {},
   "cell_type": "code",
   "source": [
    "sub = pd.read_csv('data/sample_submission.csv')\n",
    "sub['num_sold'] = pred\n",
    "sub.to_csv('submission.csv', index=False)"
   ],
   "id": "10b5586aef5b8eaa",
   "outputs": [],
   "execution_count": null
  }
 ],
 "metadata": {
  "kernelspec": {
   "display_name": "Python 3",
   "language": "python",
   "name": "python3"
  },
  "language_info": {
   "codemirror_mode": {
    "name": "ipython",
    "version": 2
   },
   "file_extension": ".py",
   "mimetype": "text/x-python",
   "name": "python",
   "nbconvert_exporter": "python",
   "pygments_lexer": "ipython2",
   "version": "2.7.6"
  }
 },
 "nbformat": 4,
 "nbformat_minor": 5
}
